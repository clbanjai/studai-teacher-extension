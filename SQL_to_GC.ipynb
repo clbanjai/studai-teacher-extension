{
 "cells": [
  {
   "cell_type": "code",
   "execution_count": 3,
   "metadata": {},
   "outputs": [
    {
     "name": "stdout",
     "output_type": "stream",
     "text": [
      "Requirement already satisfied: mysql-connector-python in c:\\users\\claud\\appdata\\local\\programs\\python\\python312\\lib\\site-packages (9.0.0)\n",
      "Note: you may need to restart the kernel to use updated packages.\n"
     ]
    }
   ],
   "source": [
    "pip install mysql-connector-python\n"
   ]
  },
  {
   "cell_type": "code",
   "execution_count": 4,
   "metadata": {},
   "outputs": [
    {
     "name": "stdout",
     "output_type": "stream",
     "text": [
      "[('Math Homework', datetime.date(2024, 10, 1), 5), ('History Essay', datetime.date(2024, 10, 15), 180)]\n"
     ]
    }
   ],
   "source": [
    "import mysql.connector\n",
    "\n",
    "# Connect to your MySQL database\n",
    "conn = mysql.connector.connect(\n",
    "    host=\"127.0.0.1\",\n",
    "    user=\"root\",\n",
    "    password=\"Plokij?!1\",\n",
    "    database=\"canvas_2\"\n",
    ")\n",
    "\n",
    "cursor = conn.cursor()\n",
    "\n",
    "# Query to select assignments\n",
    "query = \"SELECT title, deadline, estimated_duration FROM assignment\"\n",
    "cursor.execute(query)\n",
    "\n",
    "# Fetch all rows\n",
    "assignments = cursor.fetchall()\n",
    "\n",
    "# Close the connection\n",
    "cursor.close()\n",
    "conn.close()\n",
    "\n",
    "# Process assignments\n",
    "print(assignments)"
   ]
  },
  {
   "cell_type": "code",
   "execution_count": 5,
   "metadata": {},
   "outputs": [
    {
     "name": "stdout",
     "output_type": "stream",
     "text": [
      "Requirement already satisfied: google-api-python-client in c:\\users\\claud\\appdata\\local\\programs\\python\\python312\\lib\\site-packages (2.145.0)\n",
      "Requirement already satisfied: google-auth in c:\\users\\claud\\appdata\\local\\programs\\python\\python312\\lib\\site-packages (2.34.0)\n",
      "Requirement already satisfied: google-auth-oauthlib in c:\\users\\claud\\appdata\\local\\programs\\python\\python312\\lib\\site-packages (1.2.1)\n",
      "Requirement already satisfied: google-auth-httplib2 in c:\\users\\claud\\appdata\\local\\programs\\python\\python312\\lib\\site-packages (0.2.0)\n",
      "Requirement already satisfied: httplib2 in c:\\users\\claud\\appdata\\local\\programs\\python\\python312\\lib\\site-packages (0.22.0)\n",
      "Requirement already satisfied: google-api-core!=2.0.*,!=2.1.*,!=2.2.*,!=2.3.0,<3.0.0.dev0,>=1.31.5 in c:\\users\\claud\\appdata\\local\\programs\\python\\python312\\lib\\site-packages (from google-api-python-client) (2.19.2)\n",
      "Requirement already satisfied: uritemplate<5,>=3.0.1 in c:\\users\\claud\\appdata\\local\\programs\\python\\python312\\lib\\site-packages (from google-api-python-client) (4.1.1)\n",
      "Requirement already satisfied: cachetools<6.0,>=2.0.0 in c:\\users\\claud\\appdata\\local\\programs\\python\\python312\\lib\\site-packages (from google-auth) (5.5.0)\n",
      "Requirement already satisfied: pyasn1-modules>=0.2.1 in c:\\users\\claud\\appdata\\local\\programs\\python\\python312\\lib\\site-packages (from google-auth) (0.4.1)\n",
      "Requirement already satisfied: rsa<5,>=3.1.4 in c:\\users\\claud\\appdata\\local\\programs\\python\\python312\\lib\\site-packages (from google-auth) (4.9)\n",
      "Requirement already satisfied: requests-oauthlib>=0.7.0 in c:\\users\\claud\\appdata\\local\\programs\\python\\python312\\lib\\site-packages (from google-auth-oauthlib) (2.0.0)\n",
      "Requirement already satisfied: pyparsing!=3.0.0,!=3.0.1,!=3.0.2,!=3.0.3,<4,>=2.4.2 in c:\\users\\claud\\appdata\\local\\programs\\python\\python312\\lib\\site-packages (from httplib2) (3.1.4)\n",
      "Requirement already satisfied: googleapis-common-protos<2.0.dev0,>=1.56.2 in c:\\users\\claud\\appdata\\local\\programs\\python\\python312\\lib\\site-packages (from google-api-core!=2.0.*,!=2.1.*,!=2.2.*,!=2.3.0,<3.0.0.dev0,>=1.31.5->google-api-python-client) (1.65.0)\n",
      "Requirement already satisfied: protobuf!=3.20.0,!=3.20.1,!=4.21.0,!=4.21.1,!=4.21.2,!=4.21.3,!=4.21.4,!=4.21.5,<6.0.0.dev0,>=3.19.5 in c:\\users\\claud\\appdata\\local\\programs\\python\\python312\\lib\\site-packages (from google-api-core!=2.0.*,!=2.1.*,!=2.2.*,!=2.3.0,<3.0.0.dev0,>=1.31.5->google-api-python-client) (5.28.1)\n",
      "Requirement already satisfied: proto-plus<2.0.0dev,>=1.22.3 in c:\\users\\claud\\appdata\\local\\programs\\python\\python312\\lib\\site-packages (from google-api-core!=2.0.*,!=2.1.*,!=2.2.*,!=2.3.0,<3.0.0.dev0,>=1.31.5->google-api-python-client) (1.24.0)\n",
      "Requirement already satisfied: requests<3.0.0.dev0,>=2.18.0 in c:\\users\\claud\\appdata\\local\\programs\\python\\python312\\lib\\site-packages (from google-api-core!=2.0.*,!=2.1.*,!=2.2.*,!=2.3.0,<3.0.0.dev0,>=1.31.5->google-api-python-client) (2.32.3)\n",
      "Requirement already satisfied: pyasn1<0.7.0,>=0.4.6 in c:\\users\\claud\\appdata\\local\\programs\\python\\python312\\lib\\site-packages (from pyasn1-modules>=0.2.1->google-auth) (0.6.1)\n",
      "Requirement already satisfied: oauthlib>=3.0.0 in c:\\users\\claud\\appdata\\local\\programs\\python\\python312\\lib\\site-packages (from requests-oauthlib>=0.7.0->google-auth-oauthlib) (3.2.2)\n",
      "Requirement already satisfied: charset-normalizer<4,>=2 in c:\\users\\claud\\appdata\\local\\programs\\python\\python312\\lib\\site-packages (from requests<3.0.0.dev0,>=2.18.0->google-api-core!=2.0.*,!=2.1.*,!=2.2.*,!=2.3.0,<3.0.0.dev0,>=1.31.5->google-api-python-client) (3.3.2)\n",
      "Requirement already satisfied: idna<4,>=2.5 in c:\\users\\claud\\appdata\\local\\programs\\python\\python312\\lib\\site-packages (from requests<3.0.0.dev0,>=2.18.0->google-api-core!=2.0.*,!=2.1.*,!=2.2.*,!=2.3.0,<3.0.0.dev0,>=1.31.5->google-api-python-client) (3.8)\n",
      "Requirement already satisfied: urllib3<3,>=1.21.1 in c:\\users\\claud\\appdata\\local\\programs\\python\\python312\\lib\\site-packages (from requests<3.0.0.dev0,>=2.18.0->google-api-core!=2.0.*,!=2.1.*,!=2.2.*,!=2.3.0,<3.0.0.dev0,>=1.31.5->google-api-python-client) (2.2.3)\n",
      "Requirement already satisfied: certifi>=2017.4.17 in c:\\users\\claud\\appdata\\local\\programs\\python\\python312\\lib\\site-packages (from requests<3.0.0.dev0,>=2.18.0->google-api-core!=2.0.*,!=2.1.*,!=2.2.*,!=2.3.0,<3.0.0.dev0,>=1.31.5->google-api-python-client) (2024.8.30)\n",
      "Note: you may need to restart the kernel to use updated packages.\n"
     ]
    }
   ],
   "source": [
    "pip install google-api-python-client google-auth google-auth-oauthlib google-auth-httplib2 httplib2\n"
   ]
  },
  {
   "cell_type": "code",
   "execution_count": 6,
   "metadata": {},
   "outputs": [
    {
     "name": "stderr",
     "output_type": "stream",
     "text": [
      "C:\\Users\\claud\\AppData\\Local\\Temp\\ipykernel_26344\\1626164735.py:42: DeprecationWarning: datetime.datetime.utcnow() is deprecated and scheduled for removal in a future version. Use timezone-aware objects to represent datetimes in UTC: datetime.datetime.now(datetime.UTC).\n",
      "  now = datetime.datetime.utcnow().isoformat() + \"Z\"  # 'Z' indicates UTC time\n"
     ]
    },
    {
     "name": "stdout",
     "output_type": "stream",
     "text": [
      "Getting the upcoming 10 events\n",
      "2024-09-13 HackMIT\n",
      "2024-09-14T20:00:00-04:00 Work\n",
      "2024-09-15T21:00:00-04:00 Baker exec meeting\n",
      "2024-09-16T10:00:00-04:00 6.1010 lec\n",
      "2024-09-16T11:00:00-04:00 14.01 lec\n",
      "2024-09-16T15:00:00-04:00 1.074 lec\n",
      "2024-09-17T09:00:00-04:00 1.125 lec\n",
      "2024-09-17T11:00:00-04:00 1.067\n",
      "2024-09-17T13:00:00-04:00 CMS.100 lec\n",
      "2024-09-17T15:00:00-04:00 1.010A lec\n"
     ]
    }
   ],
   "source": [
    "import datetime\n",
    "import os.path\n",
    "\n",
    "from google.auth.transport.requests import Request\n",
    "from google.oauth2.credentials import Credentials\n",
    "from google.oauth2 import service_account\n",
    "from google_auth_oauthlib.flow import InstalledAppFlow\n",
    "from googleapiclient.discovery import build\n",
    "from googleapiclient.errors import HttpError\n",
    "\n",
    "# If modifying these scopes, delete the file token.json.\n",
    "SCOPES = ['https://www.googleapis.com/auth/calendar']\n",
    "\n",
    "\n",
    "def main():\n",
    "  \"\"\"Shows basic usage of the Google Calendar API.\n",
    "  Prints the start and name of the next 10 events on the user's calendar.\n",
    "  \"\"\"\n",
    "  creds = None\n",
    "  # The file token.json stores the user's access and refresh tokens, and is\n",
    "  # created automatically when the authorization flow completes for the first\n",
    "  # time.\n",
    "  if os.path.exists(\"token.json\"):\n",
    "    creds = Credentials.from_authorized_user_file(\"token.json\", SCOPES)\n",
    "  # If there are no (valid) credentials available, let the user log in.\n",
    "  if not creds or not creds.valid:\n",
    "    if creds and creds.expired and creds.refresh_token:\n",
    "      creds.refresh(Request())\n",
    "    else:\n",
    "      flow = InstalledAppFlow.from_client_secrets_file(\n",
    "          \"credentials.json\", SCOPES\n",
    "      )\n",
    "      creds = flow.run_local_server(port=0)\n",
    "    # Save the credentials for the next run\n",
    "    with open(\"token.json\", \"w\") as token:\n",
    "      token.write(creds.to_json())\n",
    "\n",
    "  try:\n",
    "    service = build(\"calendar\", \"v3\", credentials=creds)\n",
    "\n",
    "    # Call the Calendar API\n",
    "    now = datetime.datetime.utcnow().isoformat() + \"Z\"  # 'Z' indicates UTC time\n",
    "    print(\"Getting the upcoming 10 events\")\n",
    "    events_result = (\n",
    "        service.events()\n",
    "        .list(\n",
    "            calendarId=\"primary\",\n",
    "            timeMin=now,\n",
    "            maxResults=10,\n",
    "            singleEvents=True,\n",
    "            orderBy=\"startTime\",\n",
    "        )\n",
    "        .execute()\n",
    "    )\n",
    "    events = events_result.get(\"items\", [])\n",
    "\n",
    "    if not events:\n",
    "      print(\"No upcoming events found.\")\n",
    "      return\n",
    "\n",
    "    # Prints the start and name of the next 10 events\n",
    "    for event in events:\n",
    "      start = event[\"start\"].get(\"dateTime\", event[\"start\"].get(\"date\"))\n",
    "      print(start, event[\"summary\"])\n",
    "\n",
    "  except HttpError as error:\n",
    "    print(f\"An error occurred: {error}\")\n",
    "\n",
    "\n",
    "if __name__ == \"__main__\":\n",
    "  main()\n"
   ]
  },
  {
   "cell_type": "code",
   "execution_count": 7,
   "metadata": {},
   "outputs": [
    {
     "name": "stdout",
     "output_type": "stream",
     "text": [
      "('Math Homework', datetime.date(2024, 10, 1), 5)\n",
      "Please visit this URL to authorize this application: https://accounts.google.com/o/oauth2/auth?response_type=code&client_id=572552279345-5m478f7fnsd786kcbprj9vv1rb8gsd5q.apps.googleusercontent.com&redirect_uri=http%3A%2F%2Flocalhost%3A56079%2F&scope=https%3A%2F%2Fwww.googleapis.com%2Fauth%2Fcalendar&state=HvjKVjbBVjntdLHaj0RuunJonILm0W&access_type=offline\n",
      "Event created: https://www.google.com/calendar/event?eid=ZnJuaWo0a29rbW90a2V2YTYwZ2w0aXJpbzQgY2xhdWRpb2JhbmphaUBt\n",
      "('History Essay', datetime.date(2024, 10, 15), 180)\n",
      "Please visit this URL to authorize this application: https://accounts.google.com/o/oauth2/auth?response_type=code&client_id=572552279345-5m478f7fnsd786kcbprj9vv1rb8gsd5q.apps.googleusercontent.com&redirect_uri=http%3A%2F%2Flocalhost%3A56092%2F&scope=https%3A%2F%2Fwww.googleapis.com%2Fauth%2Fcalendar&state=Q5Yd8rF19pbxIL8brH3OZoMpy5bBHT&access_type=offline\n",
      "Event created: https://www.google.com/calendar/event?eid=Z2ozYTExc28zZ2N2MHI3bWV2NjJrMDAxdDAgY2xhdWRpb2JhbmphaUBt\n"
     ]
    }
   ],
   "source": [
    "import datetime\n",
    "\n",
    "\n",
    "def authenticate():\n",
    "    \"\"\"Authenticate the user and obtain credentials.\"\"\"\n",
    "    flow = InstalledAppFlow.from_client_secrets_file(\n",
    "        'credentials.json', SCOPES)\n",
    "    creds = flow.run_local_server(port=0)\n",
    "    return build('calendar', 'v3', credentials=creds)\n",
    "\n",
    "def create_event(event):\n",
    "    # event tuple: ('Math Homework', datetime.date(2024, 9, 20, 23, 59))\n",
    "    event_name, event_date, duration = event\n",
    "    # Converting date into ISO format\n",
    "    start_time = (datetime.datetime(event_date.year, event_date.month, event_date.day,22,00)).isoformat()\n",
    "    end_time = (datetime.datetime(event_date.year, event_date.month, event_date.day, 23, 59)).isoformat()  # One-hour duration event\n",
    "\n",
    "    event_body = {\n",
    "        'summary': event_name,\n",
    "        'start': {\n",
    "            'dateTime': start_time,\n",
    "            'timeZone': 'America/New_York',  # Adjust for your time zone\n",
    "        },\n",
    "        'end': {\n",
    "            'dateTime': end_time,\n",
    "            'timeZone': 'America/New_York',\n",
    "        },\n",
    "    }\n",
    "    return event_body\n",
    "\n",
    "\n",
    "for i in assignments:\n",
    "    print(i)\n",
    "    new_event=create_event(i)\n",
    "    creds=None\n",
    "    service = build(\"calendar\", \"v3\", credentials=creds)\n",
    "\n",
    "\n",
    "\n",
    "\n",
    "    SERVICE_ACCOUNT_FILE = 'service_account.json'\n",
    "    SCOPES = ['https://www.googleapis.com/auth/calendar']\n",
    "\n",
    "    try:\n",
    "        service = authenticate()\n",
    "        result = service.events().insert(calendarId='primary', body=new_event).execute()\n",
    "        print(f\"Event created: {result.get('htmlLink')}\")\n",
    "    except HttpError as error:\n",
    "        print(f\"An error occurred: {error}\")\n",
    "\n",
    "# Load the credentials and build the service\n",
    "# creds = service_account.Credentials.from_service_account_file(\n",
    "#     SERVICE_ACCOUNT_FILE, scopes=SCOPES)\n",
    "# service = build(\"calendar\", \"v3\", credentials=creds)\n",
    "\n",
    "# event = service.events().insert(calendarId='primary', body=event).execute()\n",
    "# print('Event created: %s' % (event.get('htmlLink')))\n"
   ]
  },
  {
   "cell_type": "code",
   "execution_count": 11,
   "metadata": {},
   "outputs": [
    {
     "ename": "SyntaxError",
     "evalue": "invalid syntax (1450219454.py, line 1)",
     "output_type": "error",
     "traceback": [
      "\u001b[1;36m  Cell \u001b[1;32mIn[11], line 1\u001b[1;36m\u001b[0m\n\u001b[1;33m    jupyter nbconvert --to html SQL_to_GC.ipynb SQL_to_GC.html\u001b[0m\n\u001b[1;37m            ^\u001b[0m\n\u001b[1;31mSyntaxError\u001b[0m\u001b[1;31m:\u001b[0m invalid syntax\n"
     ]
    }
   ],
   "source": []
  }
 ],
 "metadata": {
  "kernelspec": {
   "display_name": "Python 3",
   "language": "python",
   "name": "python3"
  },
  "language_info": {
   "codemirror_mode": {
    "name": "ipython",
    "version": 3
   },
   "file_extension": ".py",
   "mimetype": "text/x-python",
   "name": "python",
   "nbconvert_exporter": "python",
   "pygments_lexer": "ipython3",
   "version": "3.12.1"
  }
 },
 "nbformat": 4,
 "nbformat_minor": 2
}
